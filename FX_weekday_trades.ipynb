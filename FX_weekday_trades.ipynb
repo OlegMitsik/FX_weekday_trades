{
 "cells": [
  {
   "cell_type": "code",
   "execution_count": 1,
   "metadata": {
    "collapsed": true
   },
   "outputs": [],
   "source": [
    "from statsmodels.stats.weightstats import ztest\n",
    "\n",
    "import pandas as pd\n",
    "import numpy as np\n",
    "\n",
    "from tabulate import tabulate\n",
    "from IPython.display import HTML, display\n",
    "\n",
    "from datetime import datetime"
   ]
  },
  {
   "cell_type": "markdown",
   "metadata": {},
   "source": [
    "### Getting 10 years of daily RUB/USD rates from CBR"
   ]
  },
  {
   "cell_type": "code",
   "execution_count": 2,
   "metadata": {
    "collapsed": false
   },
   "outputs": [],
   "source": [
    "data = pd.read_csv('FX_weekday_trades.csv', dtype={'Rate': float}, parse_dates=['Date'])\n",
    "data['Weekday'] = data['Date'].dt.weekday\n",
    "data['Year_num'] = data['Date'].dt.year\n",
    "data['Week_num'] = data['Date'].dt.week"
   ]
  },
  {
   "cell_type": "markdown",
   "metadata": {},
   "source": [
    "### Assigning weekdays to dates "
   ]
  },
  {
   "cell_type": "code",
   "execution_count": 3,
   "metadata": {
    "collapsed": false
   },
   "outputs": [],
   "source": [
    "Weekday_map = dict(zip(range(7), ['Monday', 'Tuesday', 'Wednesday', 'Thursday', 'Friday', 'Saturday', 'Sunday']))\n",
    "data['Weekday'] = data['Weekday'].replace(Weekday_map)"
   ]
  },
  {
   "cell_type": "markdown",
   "metadata": {},
   "source": [
    "### Removing rare weekdays with insufficient amount of observations"
   ]
  },
  {
   "cell_type": "code",
   "execution_count": 4,
   "metadata": {
    "collapsed": false
   },
   "outputs": [],
   "source": [
    "min_number = 100\n",
    "Weekdays = []\n",
    "\n",
    "for weekday in ['Monday', 'Tuesday', 'Wednesday', 'Thursday', 'Friday', 'Saturday', 'Sunday']:\n",
    "    if (len(data[data['Weekday'] == weekday]) >= min_number):\n",
    "        Weekdays.append(weekday)\n",
    "        \n",
    "data = data[data['Weekday'].isin(Weekdays)]"
   ]
  },
  {
   "cell_type": "markdown",
   "metadata": {},
   "source": [
    "### Reindexing dataset from exact dates to year-weeks"
   ]
  },
  {
   "cell_type": "code",
   "execution_count": 5,
   "metadata": {
    "collapsed": true
   },
   "outputs": [],
   "source": [
    "data_transformed = pd.pivot_table(data, values='Rate', index=['Year_num', 'Week_num'], columns='Weekday')"
   ]
  },
  {
   "cell_type": "markdown",
   "metadata": {},
   "source": [
    "### Conducting z-test of positive average return for each weekday pair"
   ]
  },
  {
   "cell_type": "code",
   "execution_count": 10,
   "metadata": {
    "collapsed": false
   },
   "outputs": [],
   "source": [
    "Results_table = [['Buy weekday', 'Sell weekday', 'Num of obs', 'Avg weekly return, %', 't-stat', 'p-val']]\n",
    "\n",
    "for buy_day in Weekdays:\n",
    "    for sell_day in (set(Weekdays)-set([buy_day])):\n",
    "        \n",
    "        # Matching weekdays with corresponding USD/RUB rates\n",
    "        if (Weekdays.index(sell_day) > Weekdays.index(buy_day)):\n",
    "            buy_rates = data_transformed[buy_day]\n",
    "            sell_rates = data_transformed[sell_day]\n",
    "        else:\n",
    "            buy_rates = data_transformed[buy_day]\n",
    "            sell_rates = data_transformed[sell_day].shift(-1)\n",
    "        \n",
    "        # Calculating weekly returns of the strategy\n",
    "        Strategy_Returns = np.log(sell_rates) - np.log(buy_rates)\n",
    "        Strategy_Returns.dropna(inplace=True)\n",
    "        \n",
    "        # Conducting z-test\n",
    "        mean_val = np.round(100*np.mean(Strategy_Returns), 2)\n",
    "        t_stat, p_val = np.round(ztest(x1=Strategy_Returns, value=0, alternative='larger'), 4)\n",
    "        \n",
    "        # Saving results\n",
    "        Results_table.append([buy_day, sell_day, len(Strategy_Returns), mean_val, t_stat, p_val])"
   ]
  },
  {
   "cell_type": "markdown",
   "metadata": {},
   "source": [
    "### Presenting z-test results"
   ]
  },
  {
   "cell_type": "code",
   "execution_count": 11,
   "metadata": {
    "collapsed": false
   },
   "outputs": [
    {
     "data": {
      "text/html": [
       "<table>\n",
       "<tbody>\n",
       "<tr><td>Buy weekday</td><td>Sell weekday</td><td>Num of obs</td><td>Avg weekly return, %</td><td>t-stat </td><td>p-val </td></tr>\n",
       "<tr><td>Tuesday    </td><td>Thursday    </td><td>463       </td><td>0.08                </td><td>1.1973 </td><td>0.1156</td></tr>\n",
       "<tr><td>Tuesday    </td><td>Saturday    </td><td>448       </td><td>0.02                </td><td>0.2399 </td><td>0.4052</td></tr>\n",
       "<tr><td>Tuesday    </td><td>Friday      </td><td>457       </td><td>-0.02               </td><td>-0.2727</td><td>0.6075</td></tr>\n",
       "<tr><td>Tuesday    </td><td>Wednesday   </td><td>472       </td><td>-0.01               </td><td>-0.1556</td><td>0.5618</td></tr>\n",
       "<tr><td>Wednesday  </td><td>Tuesday     </td><td>457       </td><td>0.27                </td><td>1.7234 </td><td>0.0424</td></tr>\n",
       "<tr><td>Wednesday  </td><td>Saturday    </td><td>474       </td><td>-0.03               </td><td>-0.3561</td><td>0.6391</td></tr>\n",
       "<tr><td>Wednesday  </td><td>Thursday    </td><td>489       </td><td>0.02                </td><td>0.397  </td><td>0.3457</td></tr>\n",
       "<tr><td>Wednesday  </td><td>Friday      </td><td>483       </td><td>-0.08               </td><td>-1.298 </td><td>0.9029</td></tr>\n",
       "<tr><td>Thursday   </td><td>Tuesday     </td><td>464       </td><td>0.27                </td><td>1.7182 </td><td>0.0429</td></tr>\n",
       "<tr><td>Thursday   </td><td>Saturday    </td><td>482       </td><td>-0.04               </td><td>-0.6263</td><td>0.7344</td></tr>\n",
       "<tr><td>Thursday   </td><td>Friday      </td><td>491       </td><td>-0.09               </td><td>-1.7892</td><td>0.9632</td></tr>\n",
       "<tr><td>Thursday   </td><td>Wednesday   </td><td>488       </td><td>0.24                </td><td>1.9512 </td><td>0.0255</td></tr>\n",
       "<tr><td>Friday     </td><td>Thursday    </td><td>487       </td><td>0.18                </td><td>1.7538 </td><td>0.0397</td></tr>\n",
       "<tr><td>Friday     </td><td>Saturday    </td><td>488       </td><td>0.05                </td><td>1.1326 </td><td>0.1287</td></tr>\n",
       "<tr><td>Friday     </td><td>Tuesday     </td><td>459       </td><td>0.26                </td><td>1.7554 </td><td>0.0396</td></tr>\n",
       "<tr><td>Friday     </td><td>Wednesday   </td><td>484       </td><td>0.23                </td><td>2.1034 </td><td>0.0177</td></tr>\n",
       "<tr><td>Saturday   </td><td>Thursday    </td><td>477       </td><td>0.18                </td><td>2.146  </td><td>0.0159</td></tr>\n",
       "<tr><td>Saturday   </td><td>Tuesday     </td><td>451       </td><td>0.25                </td><td>1.8283 </td><td>0.0338</td></tr>\n",
       "<tr><td>Saturday   </td><td>Friday      </td><td>472       </td><td>0.11                </td><td>1.0771 </td><td>0.1407</td></tr>\n",
       "<tr><td>Saturday   </td><td>Wednesday   </td><td>474       </td><td>0.23                </td><td>2.3537 </td><td>0.0093</td></tr>\n",
       "</tbody>\n",
       "</table>"
      ],
      "text/plain": [
       "<IPython.core.display.HTML object>"
      ]
     },
     "metadata": {},
     "output_type": "display_data"
    }
   ],
   "source": [
    "display(HTML(tabulate(Results_table, tablefmt='html')))"
   ]
  },
  {
   "cell_type": "markdown",
   "metadata": {},
   "source": [
    "### Conclusion: the results of z-test suggest that there is only one weekday pair which yields positive average return on the 1% confidence level. The corresponding strategy is to buy Saturday's USD/RUB rate and sell next Wednesday's USD/RUB rate. Average weekly return of this strategy is 0.23%."
   ]
  }
 ],
 "metadata": {
  "anaconda-cloud": {},
  "kernelspec": {
   "display_name": "Python [default]",
   "language": "python",
   "name": "python3"
  },
  "language_info": {
   "codemirror_mode": {
    "name": "ipython",
    "version": 3
   },
   "file_extension": ".py",
   "mimetype": "text/x-python",
   "name": "python",
   "nbconvert_exporter": "python",
   "pygments_lexer": "ipython3",
   "version": "3.5.2"
  }
 },
 "nbformat": 4,
 "nbformat_minor": 1
}
